{
 "cells": [
  {
   "cell_type": "code",
   "execution_count": 16,
   "id": "fc117f88-be35-437c-9555-06717d45cb1d",
   "metadata": {},
   "outputs": [
    {
     "name": "stdin",
     "output_type": "stream",
     "text": [
      "a:  4\n",
      "b:  2\n"
     ]
    },
    {
     "name": "stdout",
     "output_type": "stream",
     "text": [
      "a + b: 6.0\n",
      "a - b: 2.0\n",
      "a * b: 8.0\n",
      "a / b: 2.0\n"
     ]
    }
   ],
   "source": [
    "#1\n",
    "\n",
    "a=input('a: ')\n",
    "b=input('b: ')\n",
    "a=float(a)\n",
    "b=float(b)\n",
    "print('a + b: ' + str(round(a+b,2)))\n",
    "print('a - b: ' + str(round(a-b,2)))\n",
    "print('a * b: ' + str(round(a*b,4)))\n",
    "print('a / b: ' + str(round(a/b,2)))"
   ]
  },
  {
   "cell_type": "code",
   "execution_count": 7,
   "id": "4320018b-c5dd-472e-98d5-b8da05e82a57",
   "metadata": {},
   "outputs": [
    {
     "name": "stdin",
     "output_type": "stream",
     "text": [
      "사과의 개수:  5\n",
      "귤의 개수:  2\n"
     ]
    },
    {
     "name": "stdout",
     "output_type": "stream",
     "text": [
      "필요한 돈: 2000\n"
     ]
    }
   ],
   "source": [
    "#2\n",
    "\n",
    "apple_num=input('사과의 개수: ')\n",
    "citrus_num=input('귤의 개수: ')\n",
    "apple_num=int(apple_num)\n",
    "citrus_num=int(citrus_num)\n",
    "apple_value=200\n",
    "citrus_value=500\n",
    "필요한_돈=apple_value*apple_num+citrus_value*citrus_num\n",
    "print('필요한 돈: ' + str(필요한_돈))"
   ]
  },
  {
   "cell_type": "code",
   "execution_count": 22,
   "id": "1ed420f7-0b2b-43d0-b39f-e403ff59ad19",
   "metadata": {},
   "outputs": [
    {
     "name": "stdin",
     "output_type": "stream",
     "text": [
      "거스름돈:  37680\n"
     ]
    },
    {
     "name": "stdout",
     "output_type": "stream",
     "text": [
      "만원: 3장\n",
      "오천원: 1장\n",
      "천원: 2장\n",
      "오백원: 1개\n",
      "백원: 1개\n",
      "오십원: 1개\n",
      "십원: 3개\n"
     ]
    }
   ],
   "source": [
    "#3\n",
    "\n",
    "거스름돈=input('거스름돈: ')\n",
    "거스름돈=int(거스름돈)\n",
    "만원=거스름돈//10000\n",
    "오천원=(거스름돈-10000*만원)//5000\n",
    "천원=(거스름돈-10000*만원-5000*오천원)//1000\n",
    "오백원=(거스름돈-10000*만원-5000*오천원-1000*천원)//500\n",
    "백원=(거스름돈-10000*만원-5000*오천원-1000*천원-500*오백원)//100\n",
    "오십원=(거스름돈-10000*만원-5000*오천원-1000*천원-500*오백원-100*백원)//50\n",
    "십원=(거스름돈-10000*만원-5000*오천원-1000*천원-500*오백원-100*백원-50*오십원)//10\n",
    "print('만원: ' + str(만원) + '장')\n",
    "print('오천원: ' + str(오천원) + '장')\n",
    "print('천원: ' + str(천원) + '장')\n",
    "print('오백원: ' + str(오백원) + '개')\n",
    "print('백원: ' + str(백원) + '개')\n",
    "print('오십원: ' + str(오십원) + '개')\n",
    "print('십원: ' + str(십원) + '개')"
   ]
  },
  {
   "cell_type": "code",
   "execution_count": 23,
   "id": "b0fbdcf4-1731-4cbb-98ca-ebf573bb9eb6",
   "metadata": {},
   "outputs": [
    {
     "name": "stdin",
     "output_type": "stream",
     "text": [
      "거스름돈:  37680\n"
     ]
    },
    {
     "name": "stdout",
     "output_type": "stream",
     "text": [
      "만원: 3장\n",
      "오천원: 1장\n",
      "천원: 2장\n",
      "오백원: 1개\n",
      "백원: 1개\n",
      "오십원: 1개\n",
      "십원: 3개\n"
     ]
    }
   ],
   "source": [
    "#3(정답)\n",
    "\n",
    "money=input('거스름돈: ')\n",
    "money=int(money)\n",
    "만원=int(money//10000) # 왜 다 일일이 int을 달아주는지를 모르겠다.\n",
    "money=money%10000\n",
    "오천원=int(money//5000)\n",
    "money=money%5000\n",
    "천원=int(money//1000)\n",
    "money=money%1000\n",
    "오백원=int(money//500)\n",
    "money=money%500\n",
    "백원=int(money//100)\n",
    "money=money%100\n",
    "오십원=int(money//50)\n",
    "money=money%50\n",
    "십원=int(money//10)\n",
    "print('만원: ' + str(만원) + '장')\n",
    "print('오천원: ' + str(오천원) + '장')\n",
    "print('천원: ' + str(천원) + '장')\n",
    "print('오백원: ' + str(오백원) + '개')\n",
    "print('백원: ' + str(백원) + '개')\n",
    "print('오십원: ' + str(오십원) + '개')\n",
    "print('십원: ' + str(십원) + '개')"
   ]
  },
  {
   "cell_type": "code",
   "execution_count": 27,
   "id": "17c3debd-694e-4fe9-983a-8869859915e5",
   "metadata": {},
   "outputs": [
    {
     "name": "stdin",
     "output_type": "stream",
     "text": [
      "문장:  My apple is an amazing apple!\n"
     ]
    },
    {
     "name": "stdout",
     "output_type": "stream",
     "text": [
      "번역된 문장: 나의 사과 is an amazing 사과!\n"
     ]
    }
   ],
   "source": [
    "#4\n",
    "\n",
    "sentence=input('문장: ')\n",
    "\n",
    "sentence=sentence.lower()\n",
    "sentence=sentence.replace('my', '나의')\n",
    "sentence=sentence.replace('apple', '사과')\n",
    "\n",
    "print('번역된 문장: ' + sentence)"
   ]
  },
  {
   "cell_type": "code",
   "execution_count": 33,
   "id": "5115b654-cd1d-4928-93af-6127f783f449",
   "metadata": {},
   "outputs": [
    {
     "name": "stdin",
     "output_type": "stream",
     "text": [
      "문장:  Hello, nice to meet you!\n",
      "찾을 단어:  hello\n"
     ]
    },
    {
     "name": "stdout",
     "output_type": "stream",
     "text": [
      "위치: 0\n"
     ]
    }
   ],
   "source": [
    "#5\n",
    "\n",
    "sentence_5=input('문장: ')\n",
    "find_word=input('찾을 단어: ')\n",
    "\n",
    "sentence_5=sentence_5.lower()\n",
    "find_word=find_word.lower()\n",
    "\n",
    "print('위치: ' + str(sentence_5.find(find_word)))"
   ]
  },
  {
   "cell_type": "code",
   "execution_count": 40,
   "id": "173813de-116c-4c92-9b13-fed0f8d2afb9",
   "metadata": {},
   "outputs": [
    {
     "name": "stdin",
     "output_type": "stream",
     "text": [
      "문장:  hello, nice to meet you!\n",
      "찾을 단어:  hello\n"
     ]
    },
    {
     "name": "stdout",
     "output_type": "stream",
     "text": [
      "위치:  0\n"
     ]
    }
   ],
   "source": [
    "#5(정답)\n",
    "\n",
    "sentence_5a=input(\"문장: \")\n",
    "sentence_5a=sentence_5a.lower()\n",
    "word=input(\"찾을 단어: \")\n",
    "word=word.lower()\n",
    "idx=sentence_5a.find(word)\n",
    "\n",
    "print(\"위치: \", idx)"
   ]
  },
  {
   "cell_type": "code",
   "execution_count": null,
   "id": "07df7021-bc52-4335-8522-38a2531696b5",
   "metadata": {},
   "outputs": [],
   "source": [
    "#5(정답-오답노트)\n",
    "\n",
    "sentence_5a=input(\"문장: \")\n",
    "sentence_5a=sentence_5a.lower()\n",
    "word=input(\"찾을 단어: \")\n",
    "word=word.lower()\n",
    "idx=sentence_5a.find(word)\n",
    "\n",
    "type(idx)\n",
    "print(\"위치: \" + idx)  #정답에서 \",\"를 \"+\"로 바꾸었더니 오류가 생긴다.\n",
    "# \"print(\"위치: \" + idx)\"를 주석처리하면 변수 \"idx\"의 타입이 \"int\"인 것을 확인할 수 있었다. 변수 \"idx\"가 왜 int로 저장되는지는 모르겠다. 함수(find)를 써서 그런가?\n",
    "# 파이썬은 변수에 문자, 실수를 입력하더라도 함수를 사용하여 변수를 입력하면 int로 저장되는 것이 기본설정인 것인 걸까?"
   ]
  },
  {
   "cell_type": "code",
   "execution_count": 2,
   "id": "26fce117-ad78-4684-9701-64a234cb275e",
   "metadata": {},
   "outputs": [
    {
     "name": "stdout",
     "output_type": "stream",
     "text": [
      "5.2\n"
     ]
    }
   ],
   "source": [
    "#6\n",
    "\n",
    "a=[5,9,1,4,7]\n",
    "sum_a=sum(a)\n",
    "a_c=len(a)\n",
    "avr_a=sum_a/a_c\n",
    "print(avr_a)"
   ]
  },
  {
   "cell_type": "code",
   "execution_count": 4,
   "id": "c26666f9-a7f6-4de4-8be2-680ab78864c6",
   "metadata": {},
   "outputs": [
    {
     "name": "stdout",
     "output_type": "stream",
     "text": [
      "5.2\n"
     ]
    }
   ],
   "source": [
    "#6(정답)\n",
    "\n",
    "arr=[5,9,1,4,7]\n",
    "s=sum(arr)\n",
    "l=len(arr)\n",
    "m=s/l\n",
    "print(m)"
   ]
  },
  {
   "cell_type": "code",
   "execution_count": 7,
   "id": "370f994a-f20b-488d-beb9-49ea6376271d",
   "metadata": {},
   "outputs": [
    {
     "name": "stdout",
     "output_type": "stream",
     "text": [
      "21\n"
     ]
    }
   ],
   "source": [
    "#7\n",
    "\n",
    "b=[5,15,1,4,7]\n",
    "b=b[0:3]\n",
    "s=sum(b)\n",
    "print(s)"
   ]
  },
  {
   "cell_type": "code",
   "execution_count": 8,
   "id": "56c6d863-f7a6-4167-ac0b-d93cfba3999c",
   "metadata": {},
   "outputs": [
    {
     "name": "stdout",
     "output_type": "stream",
     "text": [
      "21\n"
     ]
    }
   ],
   "source": [
    "#7(정답)\n",
    "\n",
    "arr=[5,15,1,4,7]\n",
    "sliced=arr[:3]\n",
    "s=sum(sliced)\n",
    "print(s)"
   ]
  },
  {
   "cell_type": "code",
   "execution_count": 19,
   "id": "b6ac8a57-48c4-4f22-b103-c29ed136ac4a",
   "metadata": {},
   "outputs": [
    {
     "name": "stdout",
     "output_type": "stream",
     "text": [
      "7\n"
     ]
    }
   ],
   "source": [
    "#8\n",
    "\n",
    "c=[9,8,13,7,12,10,7,8,12,13,15,20,21]\n",
    "l=len(c)\n",
    "center=round((l/2)+0.1,0)  #round()는 사사오입 원칙이 적용된다. 정확히 3.5000이면 결과값이 짝수가 되는 방향으로 반올림을 한다. ex) round(3.5000,0) 결과는 4.0\n",
    "c_center=c[int(center-1)]  #리스트를 인덱스할 때 그 숫자는 정수(int)이여야 한다.\n",
    "print(c_center)"
   ]
  },
  {
   "cell_type": "code",
   "execution_count": 21,
   "id": "7fabbe58-5166-434c-8ec0-3772e5986d15",
   "metadata": {},
   "outputs": [
    {
     "name": "stdout",
     "output_type": "stream",
     "text": [
      "7\n"
     ]
    }
   ],
   "source": [
    "#8(정답)\n",
    "\n",
    "arr=[9,8,13,7,12,10,7,8,12,13,15,20,21]\n",
    "mid=len(arr)//2\n",
    "print(arr[mid])"
   ]
  },
  {
   "cell_type": "code",
   "execution_count": null,
   "id": "c592f898-f6d1-4e12-91e5-33da13b65766",
   "metadata": {},
   "outputs": [],
   "source": []
  }
 ],
 "metadata": {
  "kernelspec": {
   "display_name": "Python 3 (ipykernel)",
   "language": "python",
   "name": "python3"
  },
  "language_info": {
   "codemirror_mode": {
    "name": "ipython",
    "version": 3
   },
   "file_extension": ".py",
   "mimetype": "text/x-python",
   "name": "python",
   "nbconvert_exporter": "python",
   "pygments_lexer": "ipython3",
   "version": "3.9.7"
  }
 },
 "nbformat": 4,
 "nbformat_minor": 5
}
