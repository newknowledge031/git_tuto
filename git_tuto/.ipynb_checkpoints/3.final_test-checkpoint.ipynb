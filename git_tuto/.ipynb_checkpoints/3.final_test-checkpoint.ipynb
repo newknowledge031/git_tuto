{
 "cells": [
  {
   "cell_type": "code",
   "execution_count": 19,
   "id": "89b329ad-3b36-4c2b-a459-00909d04f332",
   "metadata": {},
   "outputs": [
    {
     "name": "stdin",
     "output_type": "stream",
     "text": [
      "숫자를 입력하세요. 54369534q67673q54\n"
     ]
    },
    {
     "name": "stdout",
     "output_type": "stream",
     "text": [
      "17\n"
     ]
    }
   ],
   "source": [
    "#1 (내 오답)\n",
    "\n",
    "# (방법1) 숫자형으로는 3, 6, 9를 포함하는지 판별할 방법이 없다고 판단\n",
    "# 문자형으로 바꾸고 find함수로 3, 6, 9 찾기\n",
    "\n",
    "# (방법2) 숫자를 한자리씩 분리하여 자료형을 리스트로 바꾸고\n",
    "# if ___ in ___ 꼴로 코드짜기\n",
    "\n",
    "#일단 방법1로 진행\n",
    "\n",
    "number=input(\"숫자를 입력하세요.\")   # 정보: input()으로 변수를 받으면 str로 저장된다.\n",
    "number=str(number)\n",
    "a=[\"3\"]\n",
    "if a in number:\n",
    "    print(\"369\")\n",
    "else: print(number)\n",
    "\n",
    "\n",
    "\n",
    "#if문 조건 작성시 연산은 같은 타입의 변수로만 만들어야 하는 듯 하다."
   ]
  },
  {
   "cell_type": "code",
   "execution_count": 56,
   "id": "fe079236-8c26-4a94-922d-0283f3d84f5e",
   "metadata": {},
   "outputs": [
    {
     "name": "stdin",
     "output_type": "stream",
     "text": [
      "숫자를 입력하세요. 21345\n"
     ]
    },
    {
     "name": "stdout",
     "output_type": "stream",
     "text": [
      "1\n"
     ]
    }
   ],
   "source": [
    "#1\n",
    "\n",
    "number=input(\"숫자를 입력하세요.\")\n",
    "number=str(number)\n",
    "count=number.count(\"3\")\n",
    "count=count+number.count(\"6\")\n",
    "count=count+number.count(\"9\")\n",
    "if count<=0:\n",
    "    print(number)\n",
    "else:\n",
    "    print(count)"
   ]
  },
  {
   "cell_type": "code",
   "execution_count": 57,
   "id": "426c747f-f8d5-4d58-a5d2-570fe4c21644",
   "metadata": {},
   "outputs": [
    {
     "name": "stdin",
     "output_type": "stream",
     "text": [
      "숫자를 입력하세요. ㄱㄱㄱ\n",
      "숫자로 다시 입력하세요. ㅕㅓㅕ호\n",
      "숫자로 다시 입력하세요. 4오\n",
      "숫자로 다시 입력하세요. 88.8\n",
      "숫자로 다시 입력하세요. 43567\n",
      "숫자로 다시 입력하세요. 34324\n"
     ]
    },
    {
     "ename": "KeyboardInterrupt",
     "evalue": "Interrupted by user",
     "output_type": "error",
     "traceback": [
      "\u001b[1;31m---------------------------------------------------------------------------\u001b[0m",
      "\u001b[1;31mKeyboardInterrupt\u001b[0m                         Traceback (most recent call last)",
      "\u001b[1;32m~\\AppData\\Local\\Temp/ipykernel_25408/1273993887.py\u001b[0m in \u001b[0;36m<module>\u001b[1;34m\u001b[0m\n\u001b[0;32m      4\u001b[0m \u001b[1;33m\u001b[0m\u001b[0m\n\u001b[0;32m      5\u001b[0m \u001b[1;32mwhile\u001b[0m \u001b[0mtype\u001b[0m\u001b[1;33m(\u001b[0m\u001b[0mnumber\u001b[0m\u001b[1;33m)\u001b[0m\u001b[1;33m!=\u001b[0m\u001b[0mtype\u001b[0m\u001b[1;33m(\u001b[0m\u001b[1;36m1\u001b[0m\u001b[1;33m)\u001b[0m\u001b[1;33m:\u001b[0m\u001b[1;33m\u001b[0m\u001b[1;33m\u001b[0m\u001b[0m\n\u001b[1;32m----> 6\u001b[1;33m     \u001b[0mnumber\u001b[0m\u001b[1;33m=\u001b[0m\u001b[0minput\u001b[0m\u001b[1;33m(\u001b[0m\u001b[1;34m\"숫자로 다시 입력하세요.\"\u001b[0m\u001b[1;33m)\u001b[0m\u001b[1;33m\u001b[0m\u001b[1;33m\u001b[0m\u001b[0m\n\u001b[0m\u001b[0;32m      7\u001b[0m \u001b[1;33m\u001b[0m\u001b[0m\n\u001b[0;32m      8\u001b[0m \u001b[0mnumber\u001b[0m\u001b[1;33m=\u001b[0m\u001b[0mstr\u001b[0m\u001b[1;33m(\u001b[0m\u001b[0mnumber\u001b[0m\u001b[1;33m)\u001b[0m\u001b[1;33m\u001b[0m\u001b[1;33m\u001b[0m\u001b[0m\n",
      "\u001b[1;32m~\\anaconda3\\lib\\site-packages\\ipykernel\\kernelbase.py\u001b[0m in \u001b[0;36mraw_input\u001b[1;34m(self, prompt)\u001b[0m\n\u001b[0;32m   1004\u001b[0m                 \u001b[1;34m\"raw_input was called, but this frontend does not support input requests.\"\u001b[0m\u001b[1;33m\u001b[0m\u001b[1;33m\u001b[0m\u001b[0m\n\u001b[0;32m   1005\u001b[0m             )\n\u001b[1;32m-> 1006\u001b[1;33m         return self._input_request(\n\u001b[0m\u001b[0;32m   1007\u001b[0m             \u001b[0mstr\u001b[0m\u001b[1;33m(\u001b[0m\u001b[0mprompt\u001b[0m\u001b[1;33m)\u001b[0m\u001b[1;33m,\u001b[0m\u001b[1;33m\u001b[0m\u001b[1;33m\u001b[0m\u001b[0m\n\u001b[0;32m   1008\u001b[0m             \u001b[0mself\u001b[0m\u001b[1;33m.\u001b[0m\u001b[0m_parent_ident\u001b[0m\u001b[1;33m[\u001b[0m\u001b[1;34m\"shell\"\u001b[0m\u001b[1;33m]\u001b[0m\u001b[1;33m,\u001b[0m\u001b[1;33m\u001b[0m\u001b[1;33m\u001b[0m\u001b[0m\n",
      "\u001b[1;32m~\\anaconda3\\lib\\site-packages\\ipykernel\\kernelbase.py\u001b[0m in \u001b[0;36m_input_request\u001b[1;34m(self, prompt, ident, parent, password)\u001b[0m\n\u001b[0;32m   1049\u001b[0m             \u001b[1;32mexcept\u001b[0m \u001b[0mKeyboardInterrupt\u001b[0m\u001b[1;33m:\u001b[0m\u001b[1;33m\u001b[0m\u001b[1;33m\u001b[0m\u001b[0m\n\u001b[0;32m   1050\u001b[0m                 \u001b[1;31m# re-raise KeyboardInterrupt, to truncate traceback\u001b[0m\u001b[1;33m\u001b[0m\u001b[1;33m\u001b[0m\u001b[0m\n\u001b[1;32m-> 1051\u001b[1;33m                 \u001b[1;32mraise\u001b[0m \u001b[0mKeyboardInterrupt\u001b[0m\u001b[1;33m(\u001b[0m\u001b[1;34m\"Interrupted by user\"\u001b[0m\u001b[1;33m)\u001b[0m \u001b[1;32mfrom\u001b[0m \u001b[1;32mNone\u001b[0m\u001b[1;33m\u001b[0m\u001b[1;33m\u001b[0m\u001b[0m\n\u001b[0m\u001b[0;32m   1052\u001b[0m             \u001b[1;32mexcept\u001b[0m \u001b[0mException\u001b[0m\u001b[1;33m:\u001b[0m\u001b[1;33m\u001b[0m\u001b[1;33m\u001b[0m\u001b[0m\n\u001b[0;32m   1053\u001b[0m                 \u001b[0mself\u001b[0m\u001b[1;33m.\u001b[0m\u001b[0mlog\u001b[0m\u001b[1;33m.\u001b[0m\u001b[0mwarning\u001b[0m\u001b[1;33m(\u001b[0m\u001b[1;34m\"Invalid Message:\"\u001b[0m\u001b[1;33m,\u001b[0m \u001b[0mexc_info\u001b[0m\u001b[1;33m=\u001b[0m\u001b[1;32mTrue\u001b[0m\u001b[1;33m)\u001b[0m\u001b[1;33m\u001b[0m\u001b[1;33m\u001b[0m\u001b[0m\n",
      "\u001b[1;31mKeyboardInterrupt\u001b[0m: Interrupted by user"
     ]
    }
   ],
   "source": [
    "#1 (+추가 : while문을 이용한 숫자만 입력받기 - 실패!)\n",
    "\n",
    "number=input(\"숫자를 입력하세요.\")\n",
    "\n",
    "while type(number)!=type(134):            # error: while구문이 오류, 숫자로 입력해도 계속 실행됨.\n",
    "    number=input(\"숫자로 다시 입력하세요.\")\n",
    "    \n",
    "    \n",
    "number=str(number)\n",
    "count=number.count(\"3\")\n",
    "count=count+number.count(\"6\")\n",
    "count=count+number.count(\"9\")\n",
    "if count<=0:\n",
    "    print(number)\n",
    "else:\n",
    "    print(count)\n",
    "    \n",
    "# 문제점 : 숫자를 입력해도 while구문이 계속 반복된다.\n",
    "# 문제점 재확인을 위해 type()함수 결과가 str인지 뭐인지 확인해봄.\n",
    "# 다음 코드에서 확인."
   ]
  },
  {
   "cell_type": "code",
   "execution_count": 66,
   "id": "e61e731e-1df1-4866-be64-2ebc76fe7af3",
   "metadata": {},
   "outputs": [
    {
     "name": "stdout",
     "output_type": "stream",
     "text": [
      "<class 'int'>\n",
      "<class 'str'>\n"
     ]
    }
   ],
   "source": [
    "# 확인 결과 type()함수의 결과는 str도 뭣도 아니였다.\n",
    "# 리스트는 [], 튜플은 (), 그렇다면 <>은 무엇인가?(type()함수 결과를 print로 출력하면 <class 'int'>로 나옴)\n",
    "# 결과적으로, <>꼴로 출력되는 type()함수 결과는 연산에 직접 사용할 수는 없는 걸까?\n",
    "\n",
    "\n",
    "a=123\n",
    "b=\"하나\"\n",
    "a_t=type(a)\n",
    "b_t=type(b)\n",
    "print(a_t)\n",
    "print(b_t)\n",
    "# if a_t=b_t:\n",
    "#     1\n",
    "# else:\n",
    "#     0"
   ]
  },
  {
   "cell_type": "code",
   "execution_count": 25,
   "id": "b85f32c2-6a38-40c3-a610-414945066537",
   "metadata": {},
   "outputs": [
    {
     "name": "stdin",
     "output_type": "stream",
     "text": [
      "숫자를 입력하세요. 123ㅈㅂㄷㄱㄱ\n",
      "숫자로 다시 입력하세요. ㅁㅈㄱㅁ\n",
      "숫자로 다시 입력하세요. 1234ㅍ\n",
      "숫자로 다시 입력하세요. 12.12\n",
      "숫자로 다시 입력하세요. 123.2\n",
      "숫자로 다시 입력하세요. 123\n"
     ]
    },
    {
     "name": "stdout",
     "output_type": "stream",
     "text": [
      "숫자로 제대로 입력하셨네요.\n",
      "1\n"
     ]
    }
   ],
   "source": [
    "#1 (+추가 : 에러을 이용한 숫자만 입력받기-성공)\n",
    "\n",
    "error_num=1\n",
    "number=input(\"숫자를 입력하세요.\")\n",
    "\n",
    "while error_num==1:\n",
    "    try:\n",
    "        number=int(number)\n",
    "    except ValueError:\n",
    "        number=input(\"숫자로 다시 입력하세요.\")\n",
    "    else:\n",
    "        error_num=-1\n",
    "print(\"숫자로 제대로 입력하셨네요.\")\n"
   ]
  },
  {
   "cell_type": "code",
   "execution_count": 23,
   "id": "cf82453b-f97b-4cc0-afbd-546de18747d2",
   "metadata": {},
   "outputs": [
    {
     "name": "stdout",
     "output_type": "stream",
     "text": [
      "1\n",
      "2\n"
     ]
    }
   ],
   "source": [
    "#1 최종 내 답안(+추가 : 에러을 이용한 숫자만 입력받기)\n",
    "\n",
    "error_num=1\n",
    "number=input(\"숫자를 입력하세요.\")\n",
    "\n",
    "while error_num==1:\n",
    "    try:\n",
    "        number=int(number)\n",
    "    except ValueError:\n",
    "        number=input(\"숫자로 다시 입력하세요.\")\n",
    "    else:\n",
    "        error_num=-1\n",
    "\n",
    "number=str(number)\n",
    "count=number.count(\"3\")\n",
    "count=count+number.count(\"6\")\n",
    "count=count+number.count(\"9\")\n",
    "if count<=0:\n",
    "    print(number)\n",
    "else:\n",
    "    print(count)\n"
   ]
  },
  {
   "cell_type": "code",
   "execution_count": null,
   "id": "2e75abd1-0232-4277-8833-1ee055a3b876",
   "metadata": {},
   "outputs": [],
   "source": [
    "#1 정답\n",
    "\n",
    "num=input('369 369 ? ')\n",
    "\n",
    "check=ture\n",
    "for c in num:\n",
    "    "
   ]
  }
 ],
 "metadata": {
  "kernelspec": {
   "display_name": "Python 3 (ipykernel)",
   "language": "python",
   "name": "python3"
  },
  "language_info": {
   "codemirror_mode": {
    "name": "ipython",
    "version": 3
   },
   "file_extension": ".py",
   "mimetype": "text/x-python",
   "name": "python",
   "nbconvert_exporter": "python",
   "pygments_lexer": "ipython3",
   "version": "3.9.7"
  }
 },
 "nbformat": 4,
 "nbformat_minor": 5
}
