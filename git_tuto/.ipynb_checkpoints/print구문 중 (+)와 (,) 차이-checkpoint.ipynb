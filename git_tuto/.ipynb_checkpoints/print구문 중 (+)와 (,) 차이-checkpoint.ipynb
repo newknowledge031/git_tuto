{
 "cells": [
  {
   "cell_type": "code",
   "execution_count": null,
   "id": "e285351f-279f-4368-942a-aec0be30dd44",
   "metadata": {},
   "outputs": [],
   "source": [
    "# \"코딩초보를 위한 72시간 파이썬 정복\" p.103 의문점\n",
    "\n",
    "#print('a는' + a)는 출력오류\n",
    "#print('a는',a)는 정상출력\n",
    "#print함수에서 \"+\"와 \",\"의 차이점은 무엇일까???"
   ]
  },
  {
   "cell_type": "code",
   "execution_count": 1,
   "id": "6c34b903-fd1a-48e2-80fe-7a604c700040",
   "metadata": {},
   "outputs": [
    {
     "ename": "TypeError",
     "evalue": "can only concatenate str (not \"int\") to str",
     "output_type": "error",
     "traceback": [
      "\u001b[1;31m---------------------------------------------------------------------------\u001b[0m",
      "\u001b[1;31mTypeError\u001b[0m                                 Traceback (most recent call last)",
      "\u001b[1;32m~\\AppData\\Local\\Temp/ipykernel_18184/2780555194.py\u001b[0m in \u001b[0;36m<module>\u001b[1;34m\u001b[0m\n\u001b[0;32m      1\u001b[0m \u001b[0ma\u001b[0m\u001b[1;33m=\u001b[0m\u001b[1;36m2\u001b[0m\u001b[1;33m\u001b[0m\u001b[1;33m\u001b[0m\u001b[0m\n\u001b[1;32m----> 2\u001b[1;33m \u001b[0mprint\u001b[0m\u001b[1;33m(\u001b[0m\u001b[1;34m'a는 '\u001b[0m \u001b[1;33m+\u001b[0m \u001b[0ma\u001b[0m\u001b[1;33m)\u001b[0m\u001b[1;33m\u001b[0m\u001b[1;33m\u001b[0m\u001b[0m\n\u001b[0m",
      "\u001b[1;31mTypeError\u001b[0m: can only concatenate str (not \"int\") to str"
     ]
    }
   ],
   "source": [
    "a=2\n",
    "print('a는 ' + a)"
   ]
  },
  {
   "cell_type": "code",
   "execution_count": null,
   "id": "8d47743f-bf61-4b1e-9b4f-fb9d07900130",
   "metadata": {},
   "outputs": [],
   "source": [
    "a=2\n",
    "print('a는',a)"
   ]
  }
 ],
 "metadata": {
  "kernelspec": {
   "display_name": "Python 3 (ipykernel)",
   "language": "python",
   "name": "python3"
  },
  "language_info": {
   "codemirror_mode": {
    "name": "ipython",
    "version": 3
   },
   "file_extension": ".py",
   "mimetype": "text/x-python",
   "name": "python",
   "nbconvert_exporter": "python",
   "pygments_lexer": "ipython3",
   "version": "3.9.7"
  }
 },
 "nbformat": 4,
 "nbformat_minor": 5
}
