{
 "cells": [
  {
   "cell_type": "code",
   "execution_count": 1,
   "id": "c3ff7d83-3fc8-4fcd-b387-c409ac453979",
   "metadata": {},
   "outputs": [
    {
     "data": {
      "text/plain": [
       "1.7"
      ]
     },
     "execution_count": 1,
     "metadata": {},
     "output_type": "execute_result"
    }
   ],
   "source": [
    "키=1.7;키"
   ]
  },
  {
   "cell_type": "code",
   "execution_count": 23,
   "id": "ae873e43-f19f-4825-bd79-703f2a60ef72",
   "metadata": {},
   "outputs": [
    {
     "data": {
      "text/plain": [
       "1.7"
      ]
     },
     "execution_count": 23,
     "metadata": {},
     "output_type": "execute_result"
    }
   ],
   "source": [
    "몸무게=70;키"
   ]
  },
  {
   "cell_type": "code",
   "execution_count": 2,
   "id": "12fcd105-3c30-478b-9f78-a85aa0f55f2f",
   "metadata": {},
   "outputs": [
    {
     "data": {
      "text/plain": [
       "1.7"
      ]
     },
     "execution_count": 2,
     "metadata": {},
     "output_type": "execute_result"
    }
   ],
   "source": [
    "키"
   ]
  },
  {
   "cell_type": "code",
   "execution_count": 33,
   "id": "2ec5aca3-65fa-4048-a5fe-4a152c045f25",
   "metadata": {},
   "outputs": [
    {
     "name": "stdout",
     "output_type": "stream",
     "text": [
      "1.7 70\n",
      "119.0\n"
     ]
    }
   ],
   "source": [
    "print(키, 몸무게);print(키*몸무게)"
   ]
  },
  {
   "cell_type": "code",
   "execution_count": 19,
   "id": "d046c182-46a5-4ca5-82f9-029f3410b6c7",
   "metadata": {},
   "outputs": [
    {
     "data": {
      "text/plain": [
       "1.7"
      ]
     },
     "execution_count": 19,
     "metadata": {},
     "output_type": "execute_result"
    }
   ],
   "source": [
    "몸무게\n",
    "키"
   ]
  },
  {
   "cell_type": "code",
   "execution_count": 20,
   "id": "e78cf864-54a9-4e4b-bc15-5cad37bfdd9d",
   "metadata": {},
   "outputs": [
    {
     "data": {
      "text/plain": [
       "1.7"
      ]
     },
     "execution_count": 20,
     "metadata": {},
     "output_type": "execute_result"
    }
   ],
   "source": [
    "몸무게; 키"
   ]
  },
  {
   "cell_type": "code",
   "execution_count": 21,
   "id": "36175e2d-3e26-44b8-9535-b8b02347ea2e",
   "metadata": {},
   "outputs": [
    {
     "data": {
      "text/plain": [
       "1.7"
      ]
     },
     "execution_count": 21,
     "metadata": {},
     "output_type": "execute_result"
    }
   ],
   "source": [
    "몸무게=70\n",
    "키=1.7\n",
    "몸무게\n",
    "키"
   ]
  },
  {
   "cell_type": "code",
   "execution_count": 22,
   "id": "11111c2d-66d5-4e8a-90ce-f0b42059bd27",
   "metadata": {},
   "outputs": [
    {
     "data": {
      "text/plain": [
       "70"
      ]
     },
     "execution_count": 22,
     "metadata": {},
     "output_type": "execute_result"
    }
   ],
   "source": [
    "키;\n",
    "몸무게"
   ]
  },
  {
   "cell_type": "code",
   "execution_count": 2,
   "id": "71f1cc7f-9620-4b14-bfaa-b85de520533f",
   "metadata": {},
   "outputs": [
    {
     "ename": "NameError",
     "evalue": "name 'ᅥᅮ' is not defined",
     "output_type": "error",
     "traceback": [
      "\u001b[1;31m---------------------------------------------------------------------------\u001b[0m",
      "\u001b[1;31mNameError\u001b[0m                                 Traceback (most recent call last)",
      "\u001b[1;32m~\\AppData\\Local\\Temp/ipykernel_6920/3562373072.py\u001b[0m in \u001b[0;36m<module>\u001b[1;34m\u001b[0m\n\u001b[1;32m----> 1\u001b[1;33m \u001b[0mㅓㅜ\u001b[0m\u001b[1;33m\u001b[0m\u001b[1;33m\u001b[0m\u001b[0m\n\u001b[0m",
      "\u001b[1;31mNameError\u001b[0m: name 'ᅥᅮ' is not defined"
     ]
    }
   ],
   "source": [
    " ㅓㅜ "
   ]
  },
  {
   "cell_type": "code",
   "execution_count": null,
   "id": "dfbf0740-c694-4eb5-931a-2c41ce27fa23",
   "metadata": {},
   "outputs": [],
   "source": []
  }
 ],
 "metadata": {
  "kernelspec": {
   "display_name": "Python 3 (ipykernel)",
   "language": "python",
   "name": "python3"
  },
  "language_info": {
   "codemirror_mode": {
    "name": "ipython",
    "version": 3
   },
   "file_extension": ".py",
   "mimetype": "text/x-python",
   "name": "python",
   "nbconvert_exporter": "python",
   "pygments_lexer": "ipython3",
   "version": "3.9.7"
  }
 },
 "nbformat": 4,
 "nbformat_minor": 5
}
