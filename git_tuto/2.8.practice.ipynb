{
 "cells": [
  {
   "cell_type": "code",
   "execution_count": 1,
   "id": "e1211401-795a-408a-847f-9d6ece71e586",
   "metadata": {},
   "outputs": [
    {
     "name": "stdout",
     "output_type": "stream",
     "text": [
      "홍길동\n",
      "20\n",
      "175.1\n"
     ]
    }
   ],
   "source": [
    "name=\"홍길동\"\n",
    "age=20\n",
    "height=175.1\n",
    "print(name)\n",
    "print(age)\n",
    "print(height)"
   ]
  },
  {
   "cell_type": "code",
   "execution_count": 2,
   "id": "2571908c-eaac-4257-b723-22f5d45d1b1b",
   "metadata": {},
   "outputs": [
    {
     "name": "stdin",
     "output_type": "stream",
     "text": [
      "이름을 입력하시오:  네임\n"
     ]
    }
   ],
   "source": [
    "name=input(\"이름을 입력하시오: \")"
   ]
  },
  {
   "cell_type": "code",
   "execution_count": 3,
   "id": "a908b2f4-4101-4f31-80b6-ef181a2aff56",
   "metadata": {
    "tags": []
   },
   "outputs": [
    {
     "data": {
      "text/plain": [
       "'네임'"
      ]
     },
     "execution_count": 3,
     "metadata": {},
     "output_type": "execute_result"
    }
   ],
   "source": [
    "name"
   ]
  },
  {
   "cell_type": "code",
   "execution_count": 4,
   "id": "c3bca39a-c8fd-4e06-b358-67c905dc206f",
   "metadata": {},
   "outputs": [
    {
     "name": "stdout",
     "output_type": "stream",
     "text": [
      "네임\n"
     ]
    }
   ],
   "source": [
    "print(name)"
   ]
  },
  {
   "cell_type": "code",
   "execution_count": null,
   "id": "58dcc754-aa3d-400b-8eb8-aede034b25a8",
   "metadata": {},
   "outputs": [],
   "source": []
  }
 ],
 "metadata": {
  "kernelspec": {
   "display_name": "Python 3 (ipykernel)",
   "language": "python",
   "name": "python3"
  },
  "language_info": {
   "codemirror_mode": {
    "name": "ipython",
    "version": 3
   },
   "file_extension": ".py",
   "mimetype": "text/x-python",
   "name": "python",
   "nbconvert_exporter": "python",
   "pygments_lexer": "ipython3",
   "version": "3.9.7"
  }
 },
 "nbformat": 4,
 "nbformat_minor": 5
}
